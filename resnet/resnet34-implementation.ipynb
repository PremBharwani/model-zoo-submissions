{
  "nbformat": 4,
  "nbformat_minor": 0,
  "metadata": {
    "accelerator": "GPU",
    "colab": {
      "name": "FinalResNet.ipynb",
      "provenance": [],
      "collapsed_sections": []
    },
    "kernelspec": {
      "display_name": "Python 3",
      "language": "python",
      "name": "python3"
    },
    "language_info": {
      "codemirror_mode": {
        "name": "ipython",
        "version": 3
      },
      "file_extension": ".py",
      "mimetype": "text/x-python",
      "name": "python",
      "nbconvert_exporter": "python",
      "pygments_lexer": "ipython3",
      "version": "3.8.5"
    }
  },
  "cells": [
    {
      "cell_type": "markdown",
      "metadata": {
        "id": "Jna29xfEMDVk"
      },
      "source": [
        "#<B> Residual Network implementation\n",
        "\n",
        "Making use of the TensorFlow Library.\n",
        "\n",
        "---\n",
        "Getting the dataset"
      ]
    },
    {
      "cell_type": "code",
      "metadata": {
        "id": "RaCd8gijXzGh"
      },
      "source": [
        "import matplotlib.pyplot as plt\n",
        "import numpy as np\n",
        "import tensorflow as tf\n",
        "from tensorflow import keras"
      ],
      "execution_count": null,
      "outputs": []
    },
    {
      "cell_type": "code",
      "metadata": {
        "colab": {
          "base_uri": "https://localhost:8080/"
        },
        "id": "aJrbEADxYWy5",
        "outputId": "3e2d6fa9-f361-42e9-f5c0-2b627325b173"
      },
      "source": [
        "# Load Cifar-10 data-set\n",
        "(train_im, train_lab), (test_im, test_lab) = tf.keras.datasets.cifar10.load_data()"
      ],
      "execution_count": null,
      "outputs": [
        {
          "output_type": "stream",
          "text": [
            "Downloading data from https://www.cs.toronto.edu/~kriz/cifar-10-python.tar.gz\n",
            "170500096/170498071 [==============================] - 4s 0us/step\n"
          ],
          "name": "stdout"
        }
      ]
    },
    {
      "cell_type": "code",
      "metadata": {
        "colab": {
          "base_uri": "https://localhost:8080/"
        },
        "id": "F2RBRZoeYvDN",
        "outputId": "b3df9070-e80e-44c1-a7d4-0814625b4292"
      },
      "source": [
        "#### Normalize the images to pixel values (0, 1)\n",
        "train_im, test_im = train_im/255.0 , test_im/255.0\n",
        "#### Check the format of the data \n",
        "print (\"train_im, train_lab types: \", type(train_im), type(train_lab))\n",
        "#### check the shape of the data\n",
        "print (\"shape of images and labels array: \", train_im.shape, train_lab.shape) \n",
        "print (\"shape of images and labels array ; test: \", test_im.shape, test_lab.shape)"
      ],
      "execution_count": null,
      "outputs": [
        {
          "output_type": "stream",
          "text": [
            "train_im, train_lab types:  <class 'numpy.ndarray'> <class 'numpy.ndarray'>\n",
            "shape of images and labels array:  (50000, 32, 32, 3) (50000, 1)\n",
            "shape of images and labels array ; test:  (10000, 32, 32, 3) (10000, 1)\n"
          ],
          "name": "stdout"
        }
      ]
    },
    {
      "cell_type": "code",
      "metadata": {
        "colab": {
          "base_uri": "https://localhost:8080/"
        },
        "id": "utISMeH0YzRQ",
        "outputId": "c269884c-09b8-41ed-97e9-b2a7f5e17e11"
      },
      "source": [
        "#### Check the distribution of unique elements \n",
        "(unique, counts) = np.unique(train_lab, return_counts=True)\n",
        "\n",
        "frequencies = np.asarray((unique, counts)).T\n",
        "\n",
        "print (frequencies)\n",
        "print (len(unique))"
      ],
      "execution_count": null,
      "outputs": [
        {
          "output_type": "stream",
          "text": [
            "[[   0 5000]\n",
            " [   1 5000]\n",
            " [   2 5000]\n",
            " [   3 5000]\n",
            " [   4 5000]\n",
            " [   5 5000]\n",
            " [   6 5000]\n",
            " [   7 5000]\n",
            " [   8 5000]\n",
            " [   9 5000]]\n",
            "10\n"
          ],
          "name": "stdout"
        }
      ]
    },
    {
      "cell_type": "code",
      "metadata": {
        "id": "xFG1egg_Y3s8"
      },
      "source": [
        "class_types = ['airplane', 'automobile', 'bird', 'cat', 'deer',\n",
        "               'dog', 'frog', 'horse', 'ship', 'truck'] # from cifar-10 website"
      ],
      "execution_count": null,
      "outputs": []
    },
    {
      "cell_type": "markdown",
      "metadata": {
        "id": "gs16LQBlMqsH"
      },
      "source": [
        "---"
      ]
    },
    {
      "cell_type": "code",
      "metadata": {
        "id": "VLm-3o3JZDNH"
      },
      "source": [
        "### One hot encoding for labels \n",
        "\n",
        "train_lab_categorical = tf.keras.utils.to_categorical(\n",
        "    train_lab, num_classes=10, dtype='uint8')\n",
        "\n",
        "test_lab_categorical = tf.keras.utils.to_categorical(\n",
        "    test_lab, num_classes=10, dtype='uint8')"
      ],
      "execution_count": null,
      "outputs": []
    },
    {
      "cell_type": "code",
      "metadata": {
        "colab": {
          "base_uri": "https://localhost:8080/"
        },
        "id": "vxqmhQPSZzCv",
        "outputId": "57747ee7-dbbf-46cc-a490-c3ec74b9d607"
      },
      "source": [
        "### Train - Validation split \n",
        "\n",
        "from sklearn.model_selection import train_test_split \n",
        "train_im, valid_im, train_lab, valid_lab = train_test_split(train_im, train_lab_categorical, test_size=0.20, \n",
        "                                                            stratify=train_lab_categorical, \n",
        "                                                            random_state=40, shuffle = True)\n",
        "\n",
        "print (\"train data shape after the split: \", train_im.shape)\n",
        "print ('new validation data shape: ', valid_im.shape)\n",
        "print (\"validation labels shape: \", valid_lab.shape)"
      ],
      "execution_count": null,
      "outputs": [
        {
          "output_type": "stream",
          "text": [
            "train data shape after the split:  (40000, 32, 32, 3)\n",
            "new validation data shape:  (10000, 32, 32, 3)\n",
            "validation labels shape:  (10000, 10)\n"
          ],
          "name": "stdout"
        }
      ]
    },
    {
      "cell_type": "code",
      "metadata": {
        "id": "LjGvpnx1ay-P"
      },
      "source": [
        "#### Necessary Imports for Neural Net \n",
        "\n",
        "from tensorflow.keras.layers import Input, Conv2D, MaxPooling2D, ZeroPadding2D,\\\n",
        "     Flatten, BatchNormalization, AveragePooling2D, Dense, Activation, Add \n",
        "from tensorflow.keras.models import Model\n",
        "from tensorflow.keras import activations\n",
        "from tensorflow.keras.optimizers import Adam\n",
        "from tensorflow.keras.callbacks import EarlyStopping\n",
        "from tensorflow.keras.regularizers import l2"
      ],
      "execution_count": null,
      "outputs": []
    },
    {
      "cell_type": "code",
      "metadata": {
        "id": "o1tLwFBEZ7Oj"
      },
      "source": [
        "##### Include Little Data Augmentation \n",
        "batch_size = 64 # try several values\n",
        "\n",
        "train_DataGen = tf.keras.preprocessing.image.ImageDataGenerator(zoom_range=0.2, \n",
        "                                                                width_shift_range=0.1, \n",
        "                                                                height_shift_range = 0.1, \n",
        "                                                                horizontal_flip=True)\n",
        " \n",
        "valid_datagen = tf.keras.preprocessing.image.ImageDataGenerator()\n",
        "\n",
        "train_set_conv = train_DataGen.flow(train_im, train_lab, batch_size=batch_size) # train_lab is categorical \n",
        "valid_set_conv = valid_datagen.flow(valid_im, valid_lab, batch_size=batch_size) # so as valid_lab "
      ],
      "execution_count": null,
      "outputs": []
    },
    {
      "cell_type": "markdown",
      "metadata": {
        "id": "DxTVSW18iQMD"
      },
      "source": [
        "### Residual Block and Resnet :"
      ]
    },
    {
      "cell_type": "markdown",
      "metadata": {
        "id": "GzyAgPuSNKph"
      },
      "source": [
        "### Functions to add a Residual Block "
      ]
    },
    {
      "cell_type": "code",
      "metadata": {
        "id": "D6_kNNzvp5-_"
      },
      "source": [
        "def add_residual_block(inp , filters):\n",
        "  # Identity definiton , The output and the input of the residual function has \n",
        "  # the same size , so we can add directly !\n",
        "\n",
        "  add_to_op = inp       #Used to add the input we got to the feature map of the second convolution layer (Before the activation funciton)\n",
        "  f1,f2=filters\n",
        "\n",
        "#First convolution layer    \n",
        "  inp = Conv2D(f1 , kernel_size=(3,3) ,strides=(1,1) , padding='same' , kernel_regularizer=l2(0.001))(inp)\n",
        "  inp = BatchNormalization()(inp)\n",
        "  inp = Activation(activations.relu)(inp)\n",
        "\n",
        "#Second convolution layer\n",
        "  inp = Conv2D(f2 , kernel_size=(3,3) ,strides=(1,1) , padding='same' , kernel_regularizer=l2(0.001))(inp)\n",
        "  inp = BatchNormalization()(inp)\n",
        "\n",
        "  if(add_to_op.shape[3]!=inp.shape[3]):\n",
        "    add_to_op = Conv2D(f2,kernel_size=(1,1),padding='same',kernel_regularizer=l2(0.001))(add_to_op)\n",
        "\n",
        "  inp = Add()([inp,add_to_op])                # Adding the initial input into the residual block\n",
        "  inp = Activation(activations.relu)(inp)\n",
        "\n",
        "  return inp\n",
        "\n",
        "def add_residual_block_with_size_change(inp , s , filters):\n",
        "  # This will reduce the size of the input and accordingly adjust the addition with a projection matrix\n",
        "\n",
        "  add_to_op=inp\n",
        "  f1,f2=filters\n",
        "\n",
        "  #First convolution layer \n",
        "  inp = ZeroPadding2D(padding=(1,1))(inp)\n",
        "  inp = Conv2D(f1 , kernel_size=(3,3) ,strides=(s,s) , padding='valid' , kernel_regularizer=l2(0.001))(inp)\n",
        "  inp = BatchNormalization()(inp)\n",
        "  inp = Activation(activations.relu)(inp)\n",
        "\n",
        "  #Second convolution layer\n",
        "  inp = Conv2D(f2 , kernel_size=(3,3) ,strides=(1,1) , padding='same' , kernel_regularizer=l2(0.001))(inp)\n",
        "  inp = BatchNormalization()(inp)\n",
        "\n",
        "  # Now the sizes of add_to_op and inp are different , we'll have to make them same before adding \n",
        "  add_to_op = Conv2D(f2,kernel_size=(1,1),strides=(s,s),padding='valid',kernel_regularizer=l2(0.001))(add_to_op)\n",
        "  add_to_op = BatchNormalization()(add_to_op)\n",
        "\n",
        "  inp = Add()([inp,add_to_op])                # Adding the initial input into the residual block\n",
        "  inp = Activation(activations.relu)(inp)\n",
        "\n",
        "  return inp\n",
        "\n",
        "\n"
      ],
      "execution_count": null,
      "outputs": []
    },
    {
      "cell_type": "markdown",
      "metadata": {
        "id": "FnQ8uvvqM3Pg"
      },
      "source": [
        "### Making use of the above functions , we'll build the resnet34 architecture"
      ]
    },
    {
      "cell_type": "code",
      "metadata": {
        "id": "DKngMdcEJEdI"
      },
      "source": [
        "def resnet34():\n",
        "  inp_image = Input(shape=(train_im.shape[1],train_im.shape[2],train_im.shape[3]))\n",
        "\n",
        "\n",
        "  #First set of residual blocks\n",
        "\n",
        "  inp = Conv2D(16,kernel_size=(3,3),padding='same',kernel_regularizer=l2(0.001))(inp_image)\n",
        "\n",
        "  inp = add_residual_block(inp,(16,16))\n",
        "  inp = add_residual_block(inp,(16,16))\n",
        "\n",
        "  #Second set of residual blocks\n",
        "  inp = add_residual_block_with_size_change(inp,2,(32,32))\n",
        "  inp = add_residual_block(inp,(32,32))\n",
        "\n",
        "  #Third set of residual blocks\n",
        "  inp = add_residual_block_with_size_change(inp,2,(64,64))\n",
        "  inp = add_residual_block(inp,(64,64))\n",
        "\n",
        "  # #Fourth set of residual blocks\n",
        "  # inp = add_residual_block_with_size_change(inp,2,(512,512))\n",
        "  # inp = add_residual_block(inp,(512,512))\n",
        "  # inp = add_residual_block(inp,(512,512))\n",
        "\n",
        "  # Average pooling and then , flatten to pass into softmax\n",
        "  inp = AveragePooling2D((2,2),padding='same')(inp)\n",
        "  inp = Flatten()(inp)\n",
        "  inp = Dense(len(class_types),activation='softmax',kernel_initializer='he_normal')(inp)\n",
        "\n",
        "  model = Model(inputs=inp_image,outputs=inp,name='Resnet34')\n",
        "\n",
        "  return model\n"
      ],
      "execution_count": null,
      "outputs": []
    },
    {
      "cell_type": "code",
      "metadata": {
        "id": "AzP_9hapzMPx"
      },
      "source": [
        "### Define some Callbacks\n",
        "def lrdecay(epoch):\n",
        "    lr = 1e-3\n",
        "    if epoch > 180:\n",
        "        lr *= 0.5e-3\n",
        "    elif epoch > 160:\n",
        "        lr *= 1e-3\n",
        "    elif epoch > 120:\n",
        "        lr *= 1e-2\n",
        "    elif epoch > 80:\n",
        "        lr *= 1e-1\n",
        "    #print('Learning rate: ', lr)\n",
        "    return lr\n",
        "  # if epoch < 40:\n",
        "  #   return 0.01\n",
        "  # else:\n",
        "  #   return 0.01 * np.math.exp(0.03 * (40 - epoch))\n",
        "lrdecay = tf.keras.callbacks.LearningRateScheduler(lrdecay) # learning rate decay  \n",
        "\n",
        "\n",
        "def earlystop(mode):\n",
        "  if mode=='acc':\n",
        "    estop = tf.keras.callbacks.EarlyStopping(monitor='val_acc', patience=15, mode='max')\n",
        "  elif mode=='loss':\n",
        "    estop = tf.keras.callbacks.EarlyStopping(monitor='val_loss', patience=15, mode='min')\n",
        "  return estop    "
      ],
      "execution_count": null,
      "outputs": []
    },
    {
      "cell_type": "code",
      "metadata": {
        "id": "LQmIe7aXyjiA"
      },
      "source": [
        "resnet34_model = resnet34()"
      ],
      "execution_count": null,
      "outputs": []
    },
    {
      "cell_type": "code",
      "metadata": {
        "colab": {
          "base_uri": "https://localhost:8080/"
        },
        "id": "HpJ5jY391JFA",
        "outputId": "f96b52da-b25a-4fd2-ef72-cbf98e4f0599"
      },
      "source": [
        "resnet34_model.summary()"
      ],
      "execution_count": null,
      "outputs": [
        {
          "output_type": "stream",
          "text": [
            "Model: \"Resnet34\"\n",
            "__________________________________________________________________________________________________\n",
            "Layer (type)                    Output Shape         Param #     Connected to                     \n",
            "==================================================================================================\n",
            "input_1 (InputLayer)            [(None, 32, 32, 3)]  0                                            \n",
            "__________________________________________________________________________________________________\n",
            "conv2d (Conv2D)                 (None, 32, 32, 16)   448         input_1[0][0]                    \n",
            "__________________________________________________________________________________________________\n",
            "conv2d_1 (Conv2D)               (None, 32, 32, 16)   2320        conv2d[0][0]                     \n",
            "__________________________________________________________________________________________________\n",
            "batch_normalization (BatchNorma (None, 32, 32, 16)   64          conv2d_1[0][0]                   \n",
            "__________________________________________________________________________________________________\n",
            "activation (Activation)         (None, 32, 32, 16)   0           batch_normalization[0][0]        \n",
            "__________________________________________________________________________________________________\n",
            "conv2d_2 (Conv2D)               (None, 32, 32, 16)   2320        activation[0][0]                 \n",
            "__________________________________________________________________________________________________\n",
            "batch_normalization_1 (BatchNor (None, 32, 32, 16)   64          conv2d_2[0][0]                   \n",
            "__________________________________________________________________________________________________\n",
            "add (Add)                       (None, 32, 32, 16)   0           batch_normalization_1[0][0]      \n",
            "                                                                 conv2d[0][0]                     \n",
            "__________________________________________________________________________________________________\n",
            "activation_1 (Activation)       (None, 32, 32, 16)   0           add[0][0]                        \n",
            "__________________________________________________________________________________________________\n",
            "conv2d_3 (Conv2D)               (None, 32, 32, 16)   2320        activation_1[0][0]               \n",
            "__________________________________________________________________________________________________\n",
            "batch_normalization_2 (BatchNor (None, 32, 32, 16)   64          conv2d_3[0][0]                   \n",
            "__________________________________________________________________________________________________\n",
            "activation_2 (Activation)       (None, 32, 32, 16)   0           batch_normalization_2[0][0]      \n",
            "__________________________________________________________________________________________________\n",
            "conv2d_4 (Conv2D)               (None, 32, 32, 16)   2320        activation_2[0][0]               \n",
            "__________________________________________________________________________________________________\n",
            "batch_normalization_3 (BatchNor (None, 32, 32, 16)   64          conv2d_4[0][0]                   \n",
            "__________________________________________________________________________________________________\n",
            "add_1 (Add)                     (None, 32, 32, 16)   0           batch_normalization_3[0][0]      \n",
            "                                                                 activation_1[0][0]               \n",
            "__________________________________________________________________________________________________\n",
            "activation_3 (Activation)       (None, 32, 32, 16)   0           add_1[0][0]                      \n",
            "__________________________________________________________________________________________________\n",
            "zero_padding2d (ZeroPadding2D)  (None, 34, 34, 16)   0           activation_3[0][0]               \n",
            "__________________________________________________________________________________________________\n",
            "conv2d_5 (Conv2D)               (None, 16, 16, 32)   4640        zero_padding2d[0][0]             \n",
            "__________________________________________________________________________________________________\n",
            "batch_normalization_4 (BatchNor (None, 16, 16, 32)   128         conv2d_5[0][0]                   \n",
            "__________________________________________________________________________________________________\n",
            "activation_4 (Activation)       (None, 16, 16, 32)   0           batch_normalization_4[0][0]      \n",
            "__________________________________________________________________________________________________\n",
            "conv2d_6 (Conv2D)               (None, 16, 16, 32)   9248        activation_4[0][0]               \n",
            "__________________________________________________________________________________________________\n",
            "conv2d_7 (Conv2D)               (None, 16, 16, 32)   544         activation_3[0][0]               \n",
            "__________________________________________________________________________________________________\n",
            "batch_normalization_5 (BatchNor (None, 16, 16, 32)   128         conv2d_6[0][0]                   \n",
            "__________________________________________________________________________________________________\n",
            "batch_normalization_6 (BatchNor (None, 16, 16, 32)   128         conv2d_7[0][0]                   \n",
            "__________________________________________________________________________________________________\n",
            "add_2 (Add)                     (None, 16, 16, 32)   0           batch_normalization_5[0][0]      \n",
            "                                                                 batch_normalization_6[0][0]      \n",
            "__________________________________________________________________________________________________\n",
            "activation_5 (Activation)       (None, 16, 16, 32)   0           add_2[0][0]                      \n",
            "__________________________________________________________________________________________________\n",
            "conv2d_8 (Conv2D)               (None, 16, 16, 32)   9248        activation_5[0][0]               \n",
            "__________________________________________________________________________________________________\n",
            "batch_normalization_7 (BatchNor (None, 16, 16, 32)   128         conv2d_8[0][0]                   \n",
            "__________________________________________________________________________________________________\n",
            "activation_6 (Activation)       (None, 16, 16, 32)   0           batch_normalization_7[0][0]      \n",
            "__________________________________________________________________________________________________\n",
            "conv2d_9 (Conv2D)               (None, 16, 16, 32)   9248        activation_6[0][0]               \n",
            "__________________________________________________________________________________________________\n",
            "batch_normalization_8 (BatchNor (None, 16, 16, 32)   128         conv2d_9[0][0]                   \n",
            "__________________________________________________________________________________________________\n",
            "add_3 (Add)                     (None, 16, 16, 32)   0           batch_normalization_8[0][0]      \n",
            "                                                                 activation_5[0][0]               \n",
            "__________________________________________________________________________________________________\n",
            "activation_7 (Activation)       (None, 16, 16, 32)   0           add_3[0][0]                      \n",
            "__________________________________________________________________________________________________\n",
            "zero_padding2d_1 (ZeroPadding2D (None, 18, 18, 32)   0           activation_7[0][0]               \n",
            "__________________________________________________________________________________________________\n",
            "conv2d_10 (Conv2D)              (None, 8, 8, 64)     18496       zero_padding2d_1[0][0]           \n",
            "__________________________________________________________________________________________________\n",
            "batch_normalization_9 (BatchNor (None, 8, 8, 64)     256         conv2d_10[0][0]                  \n",
            "__________________________________________________________________________________________________\n",
            "activation_8 (Activation)       (None, 8, 8, 64)     0           batch_normalization_9[0][0]      \n",
            "__________________________________________________________________________________________________\n",
            "conv2d_11 (Conv2D)              (None, 8, 8, 64)     36928       activation_8[0][0]               \n",
            "__________________________________________________________________________________________________\n",
            "conv2d_12 (Conv2D)              (None, 8, 8, 64)     2112        activation_7[0][0]               \n",
            "__________________________________________________________________________________________________\n",
            "batch_normalization_10 (BatchNo (None, 8, 8, 64)     256         conv2d_11[0][0]                  \n",
            "__________________________________________________________________________________________________\n",
            "batch_normalization_11 (BatchNo (None, 8, 8, 64)     256         conv2d_12[0][0]                  \n",
            "__________________________________________________________________________________________________\n",
            "add_4 (Add)                     (None, 8, 8, 64)     0           batch_normalization_10[0][0]     \n",
            "                                                                 batch_normalization_11[0][0]     \n",
            "__________________________________________________________________________________________________\n",
            "activation_9 (Activation)       (None, 8, 8, 64)     0           add_4[0][0]                      \n",
            "__________________________________________________________________________________________________\n",
            "conv2d_13 (Conv2D)              (None, 8, 8, 64)     36928       activation_9[0][0]               \n",
            "__________________________________________________________________________________________________\n",
            "batch_normalization_12 (BatchNo (None, 8, 8, 64)     256         conv2d_13[0][0]                  \n",
            "__________________________________________________________________________________________________\n",
            "activation_10 (Activation)      (None, 8, 8, 64)     0           batch_normalization_12[0][0]     \n",
            "__________________________________________________________________________________________________\n",
            "conv2d_14 (Conv2D)              (None, 8, 8, 64)     36928       activation_10[0][0]              \n",
            "__________________________________________________________________________________________________\n",
            "batch_normalization_13 (BatchNo (None, 8, 8, 64)     256         conv2d_14[0][0]                  \n",
            "__________________________________________________________________________________________________\n",
            "add_5 (Add)                     (None, 8, 8, 64)     0           batch_normalization_13[0][0]     \n",
            "                                                                 activation_9[0][0]               \n",
            "__________________________________________________________________________________________________\n",
            "activation_11 (Activation)      (None, 8, 8, 64)     0           add_5[0][0]                      \n",
            "__________________________________________________________________________________________________\n",
            "average_pooling2d (AveragePooli (None, 4, 4, 64)     0           activation_11[0][0]              \n",
            "__________________________________________________________________________________________________\n",
            "flatten (Flatten)               (None, 1024)         0           average_pooling2d[0][0]          \n",
            "__________________________________________________________________________________________________\n",
            "dense (Dense)                   (None, 10)           10250       flatten[0][0]                    \n",
            "==================================================================================================\n",
            "Total params: 186,474\n",
            "Trainable params: 185,386\n",
            "Non-trainable params: 1,088\n",
            "__________________________________________________________________________________________________\n"
          ],
          "name": "stdout"
        }
      ]
    },
    {
      "cell_type": "code",
      "metadata": {
        "id": "vJYeyPZQ38JW"
      },
      "source": [
        "resnet34_model.compile(loss='categorical_crossentropy', optimizer=Adam(learning_rate=1e-3), \n",
        "                       metrics=['acc'])"
      ],
      "execution_count": null,
      "outputs": []
    },
    {
      "cell_type": "code",
      "metadata": {
        "colab": {
          "base_uri": "https://localhost:8080/"
        },
        "id": "TmutGQJp54wv",
        "outputId": "3f98fc14-be62-47d8-8b46-5225c17c11a6"
      },
      "source": [
        "batch_size=batch_size # test with 64, 128, 256\n",
        "\n",
        "resnet_train = resnet34_model.fit(train_set_conv, \n",
        "                                  epochs=160, \n",
        "                                  steps_per_epoch=train_im.shape[0]/batch_size, \n",
        "                                  validation_steps=valid_im.shape[0]/batch_size, \n",
        "                                  validation_data=valid_set_conv, \n",
        "                                  callbacks=[lrdecay])"
      ],
      "execution_count": null,
      "outputs": [
        {
          "output_type": "stream",
          "text": [
            "Epoch 1/160\n",
            "625/625 [==============================] - 22s 36ms/step - loss: 1.2885 - acc: 0.6586 - val_loss: 2.3605 - val_acc: 0.4559\n",
            "Epoch 2/160\n",
            "625/625 [==============================] - 22s 35ms/step - loss: 1.1554 - acc: 0.6913 - val_loss: 1.6628 - val_acc: 0.6054\n",
            "Epoch 3/160\n",
            "625/625 [==============================] - 22s 35ms/step - loss: 1.0820 - acc: 0.7136 - val_loss: 1.5005 - val_acc: 0.5993\n",
            "Epoch 4/160\n",
            "625/625 [==============================] - 22s 35ms/step - loss: 1.0200 - acc: 0.7344 - val_loss: 1.2244 - val_acc: 0.6844\n",
            "Epoch 5/160\n",
            "625/625 [==============================] - 22s 35ms/step - loss: 0.9805 - acc: 0.7460 - val_loss: 1.2267 - val_acc: 0.6790\n",
            "Epoch 6/160\n",
            "625/625 [==============================] - 22s 35ms/step - loss: 0.9410 - acc: 0.7582 - val_loss: 1.0714 - val_acc: 0.7268\n",
            "Epoch 7/160\n",
            "625/625 [==============================] - 22s 35ms/step - loss: 0.9227 - acc: 0.7642 - val_loss: 1.0406 - val_acc: 0.7322\n",
            "Epoch 8/160\n",
            "625/625 [==============================] - 22s 35ms/step - loss: 0.8860 - acc: 0.7756 - val_loss: 1.1139 - val_acc: 0.7138\n",
            "Epoch 9/160\n",
            "625/625 [==============================] - 22s 35ms/step - loss: 0.8763 - acc: 0.7780 - val_loss: 1.2448 - val_acc: 0.6775\n",
            "Epoch 10/160\n",
            "625/625 [==============================] - 22s 35ms/step - loss: 0.8577 - acc: 0.7870 - val_loss: 1.1604 - val_acc: 0.6995\n",
            "Epoch 11/160\n",
            "625/625 [==============================] - 22s 35ms/step - loss: 0.8489 - acc: 0.7857 - val_loss: 0.9703 - val_acc: 0.7501\n",
            "Epoch 12/160\n",
            "625/625 [==============================] - 22s 35ms/step - loss: 0.8376 - acc: 0.7929 - val_loss: 0.9517 - val_acc: 0.7597\n",
            "Epoch 13/160\n",
            "625/625 [==============================] - 22s 35ms/step - loss: 0.8189 - acc: 0.8002 - val_loss: 0.9897 - val_acc: 0.7601\n",
            "Epoch 14/160\n",
            "625/625 [==============================] - 22s 35ms/step - loss: 0.8147 - acc: 0.8001 - val_loss: 0.9152 - val_acc: 0.7748\n",
            "Epoch 15/160\n",
            "625/625 [==============================] - 22s 35ms/step - loss: 0.8093 - acc: 0.8020 - val_loss: 1.0550 - val_acc: 0.7490\n",
            "Epoch 16/160\n",
            "625/625 [==============================] - 22s 35ms/step - loss: 0.8040 - acc: 0.8044 - val_loss: 0.9648 - val_acc: 0.7628\n",
            "Epoch 17/160\n",
            "625/625 [==============================] - 22s 35ms/step - loss: 0.7910 - acc: 0.8095 - val_loss: 1.0306 - val_acc: 0.7416\n",
            "Epoch 18/160\n",
            "625/625 [==============================] - 22s 34ms/step - loss: 0.7904 - acc: 0.8094 - val_loss: 1.0295 - val_acc: 0.7514\n",
            "Epoch 19/160\n",
            "625/625 [==============================] - 21s 34ms/step - loss: 0.7718 - acc: 0.8163 - val_loss: 0.9056 - val_acc: 0.7830\n",
            "Epoch 20/160\n",
            "625/625 [==============================] - 22s 35ms/step - loss: 0.7700 - acc: 0.8149 - val_loss: 0.8649 - val_acc: 0.8020\n",
            "Epoch 21/160\n",
            "625/625 [==============================] - 21s 34ms/step - loss: 0.7746 - acc: 0.8153 - val_loss: 0.8699 - val_acc: 0.7892\n",
            "Epoch 22/160\n",
            "625/625 [==============================] - 21s 34ms/step - loss: 0.7607 - acc: 0.8181 - val_loss: 1.4224 - val_acc: 0.6577\n",
            "Epoch 23/160\n",
            "625/625 [==============================] - 21s 34ms/step - loss: 0.7608 - acc: 0.8213 - val_loss: 1.2115 - val_acc: 0.7136\n",
            "Epoch 24/160\n",
            "625/625 [==============================] - 21s 34ms/step - loss: 0.7598 - acc: 0.8195 - val_loss: 1.4259 - val_acc: 0.6478\n",
            "Epoch 25/160\n",
            "625/625 [==============================] - 21s 34ms/step - loss: 0.7539 - acc: 0.8215 - val_loss: 0.9749 - val_acc: 0.7559\n",
            "Epoch 26/160\n",
            "625/625 [==============================] - 21s 34ms/step - loss: 0.7419 - acc: 0.8272 - val_loss: 0.8717 - val_acc: 0.7954\n",
            "Epoch 27/160\n",
            "625/625 [==============================] - 22s 35ms/step - loss: 0.7390 - acc: 0.8270 - val_loss: 0.9335 - val_acc: 0.7809\n",
            "Epoch 28/160\n",
            "625/625 [==============================] - 24s 38ms/step - loss: 0.7414 - acc: 0.8262 - val_loss: 0.8868 - val_acc: 0.7889\n",
            "Epoch 29/160\n",
            "625/625 [==============================] - 24s 38ms/step - loss: 0.7396 - acc: 0.8265 - val_loss: 1.6310 - val_acc: 0.6268\n",
            "Epoch 30/160\n",
            "625/625 [==============================] - 22s 35ms/step - loss: 0.7309 - acc: 0.8288 - val_loss: 1.7616 - val_acc: 0.6096\n",
            "Epoch 31/160\n",
            "625/625 [==============================] - 22s 35ms/step - loss: 0.7375 - acc: 0.8280 - val_loss: 0.8688 - val_acc: 0.7939\n",
            "Epoch 32/160\n",
            "625/625 [==============================] - 22s 35ms/step - loss: 0.7272 - acc: 0.8299 - val_loss: 0.8074 - val_acc: 0.8091\n",
            "Epoch 33/160\n",
            "625/625 [==============================] - 22s 35ms/step - loss: 0.7210 - acc: 0.8309 - val_loss: 1.4742 - val_acc: 0.6810\n",
            "Epoch 34/160\n",
            "625/625 [==============================] - 22s 35ms/step - loss: 0.7199 - acc: 0.8323 - val_loss: 1.0349 - val_acc: 0.7498\n",
            "Epoch 35/160\n",
            "625/625 [==============================] - 22s 35ms/step - loss: 0.7207 - acc: 0.8315 - val_loss: 1.2076 - val_acc: 0.7197\n",
            "Epoch 36/160\n",
            "625/625 [==============================] - 22s 35ms/step - loss: 0.7180 - acc: 0.8351 - val_loss: 0.8543 - val_acc: 0.7909\n",
            "Epoch 37/160\n",
            "625/625 [==============================] - 22s 35ms/step - loss: 0.7173 - acc: 0.8334 - val_loss: 0.8855 - val_acc: 0.7927\n",
            "Epoch 38/160\n",
            "625/625 [==============================] - 22s 35ms/step - loss: 0.7122 - acc: 0.8357 - val_loss: 0.8373 - val_acc: 0.7965\n",
            "Epoch 39/160\n",
            "625/625 [==============================] - 22s 35ms/step - loss: 0.7085 - acc: 0.8355 - val_loss: 1.2851 - val_acc: 0.7081\n",
            "Epoch 40/160\n",
            "625/625 [==============================] - 22s 35ms/step - loss: 0.7136 - acc: 0.8361 - val_loss: 1.0099 - val_acc: 0.7577\n",
            "Epoch 41/160\n",
            "625/625 [==============================] - 22s 36ms/step - loss: 0.7074 - acc: 0.8365 - val_loss: 1.1172 - val_acc: 0.7311\n",
            "Epoch 42/160\n",
            "625/625 [==============================] - 22s 36ms/step - loss: 0.7092 - acc: 0.8350 - val_loss: 1.0353 - val_acc: 0.7623\n",
            "Epoch 43/160\n",
            "625/625 [==============================] - 22s 35ms/step - loss: 0.7025 - acc: 0.8365 - val_loss: 0.8880 - val_acc: 0.7748\n",
            "Epoch 44/160\n",
            "625/625 [==============================] - 22s 35ms/step - loss: 0.7032 - acc: 0.8371 - val_loss: 0.8721 - val_acc: 0.7885\n",
            "Epoch 45/160\n",
            "625/625 [==============================] - 22s 35ms/step - loss: 0.7030 - acc: 0.8367 - val_loss: 0.8376 - val_acc: 0.7986\n",
            "Epoch 46/160\n",
            "625/625 [==============================] - 22s 36ms/step - loss: 0.7008 - acc: 0.8379 - val_loss: 0.8319 - val_acc: 0.8079\n",
            "Epoch 47/160\n",
            "625/625 [==============================] - 22s 35ms/step - loss: 0.6928 - acc: 0.8395 - val_loss: 0.7485 - val_acc: 0.8255\n",
            "Epoch 48/160\n",
            "625/625 [==============================] - 22s 35ms/step - loss: 0.6908 - acc: 0.8407 - val_loss: 1.0287 - val_acc: 0.7594\n",
            "Epoch 49/160\n",
            "625/625 [==============================] - 22s 35ms/step - loss: 0.6946 - acc: 0.8371 - val_loss: 1.0051 - val_acc: 0.7508\n",
            "Epoch 50/160\n",
            "625/625 [==============================] - 22s 35ms/step - loss: 0.6917 - acc: 0.8424 - val_loss: 0.7617 - val_acc: 0.8195\n",
            "Epoch 51/160\n",
            "625/625 [==============================] - 22s 35ms/step - loss: 0.6940 - acc: 0.8400 - val_loss: 0.9543 - val_acc: 0.7716\n",
            "Epoch 52/160\n",
            "625/625 [==============================] - 22s 35ms/step - loss: 0.6910 - acc: 0.8404 - val_loss: 1.0208 - val_acc: 0.7556\n",
            "Epoch 53/160\n",
            "625/625 [==============================] - 22s 35ms/step - loss: 0.6884 - acc: 0.8415 - val_loss: 0.8343 - val_acc: 0.8061\n",
            "Epoch 54/160\n",
            "625/625 [==============================] - 22s 35ms/step - loss: 0.6891 - acc: 0.8404 - val_loss: 0.9961 - val_acc: 0.7732\n",
            "Epoch 55/160\n",
            "625/625 [==============================] - 22s 35ms/step - loss: 0.6813 - acc: 0.8440 - val_loss: 1.1166 - val_acc: 0.7521\n",
            "Epoch 56/160\n",
            "625/625 [==============================] - 22s 36ms/step - loss: 0.6826 - acc: 0.8422 - val_loss: 1.1149 - val_acc: 0.7468\n",
            "Epoch 57/160\n",
            "625/625 [==============================] - 22s 36ms/step - loss: 0.6903 - acc: 0.8407 - val_loss: 0.8609 - val_acc: 0.7971\n",
            "Epoch 58/160\n",
            "625/625 [==============================] - 22s 35ms/step - loss: 0.6846 - acc: 0.8424 - val_loss: 0.8945 - val_acc: 0.7843\n",
            "Epoch 59/160\n",
            "625/625 [==============================] - 22s 35ms/step - loss: 0.6794 - acc: 0.8439 - val_loss: 1.0045 - val_acc: 0.7583\n",
            "Epoch 60/160\n",
            "625/625 [==============================] - 22s 36ms/step - loss: 0.6817 - acc: 0.8421 - val_loss: 0.9189 - val_acc: 0.7759\n",
            "Epoch 61/160\n",
            "625/625 [==============================] - 22s 35ms/step - loss: 0.6767 - acc: 0.8421 - val_loss: 0.8575 - val_acc: 0.7987\n",
            "Epoch 62/160\n",
            "625/625 [==============================] - 22s 35ms/step - loss: 0.6776 - acc: 0.8443 - val_loss: 1.0384 - val_acc: 0.7523\n",
            "Epoch 63/160\n",
            "625/625 [==============================] - 22s 36ms/step - loss: 0.6762 - acc: 0.8448 - val_loss: 0.9683 - val_acc: 0.7663\n",
            "Epoch 64/160\n",
            "625/625 [==============================] - 22s 35ms/step - loss: 0.6777 - acc: 0.8423 - val_loss: 0.8471 - val_acc: 0.7966\n",
            "Epoch 65/160\n",
            "625/625 [==============================] - 22s 35ms/step - loss: 0.6782 - acc: 0.8432 - val_loss: 0.8142 - val_acc: 0.8122\n",
            "Epoch 66/160\n",
            "625/625 [==============================] - 22s 35ms/step - loss: 0.6703 - acc: 0.8470 - val_loss: 0.7432 - val_acc: 0.8298\n",
            "Epoch 67/160\n",
            "625/625 [==============================] - 22s 35ms/step - loss: 0.6647 - acc: 0.8501 - val_loss: 0.7590 - val_acc: 0.8191\n",
            "Epoch 68/160\n",
            "625/625 [==============================] - 22s 36ms/step - loss: 0.6717 - acc: 0.8451 - val_loss: 0.8895 - val_acc: 0.7842\n",
            "Epoch 69/160\n",
            "625/625 [==============================] - 22s 36ms/step - loss: 0.6675 - acc: 0.8483 - val_loss: 0.9283 - val_acc: 0.7826\n",
            "Epoch 70/160\n",
            "625/625 [==============================] - 22s 35ms/step - loss: 0.6723 - acc: 0.8457 - val_loss: 0.8744 - val_acc: 0.7923\n",
            "Epoch 71/160\n",
            "625/625 [==============================] - 22s 36ms/step - loss: 0.6706 - acc: 0.8456 - val_loss: 0.9174 - val_acc: 0.7853\n",
            "Epoch 72/160\n",
            "625/625 [==============================] - 22s 36ms/step - loss: 0.6612 - acc: 0.8489 - val_loss: 0.9690 - val_acc: 0.7762\n",
            "Epoch 73/160\n",
            "625/625 [==============================] - 22s 35ms/step - loss: 0.6652 - acc: 0.8469 - val_loss: 0.9620 - val_acc: 0.7710\n",
            "Epoch 74/160\n",
            "625/625 [==============================] - 22s 35ms/step - loss: 0.6636 - acc: 0.8485 - val_loss: 0.8240 - val_acc: 0.8056\n",
            "Epoch 75/160\n",
            "625/625 [==============================] - 22s 35ms/step - loss: 0.6614 - acc: 0.8491 - val_loss: 0.8149 - val_acc: 0.8060\n",
            "Epoch 76/160\n",
            "625/625 [==============================] - 22s 35ms/step - loss: 0.6663 - acc: 0.8461 - val_loss: 0.7594 - val_acc: 0.8211\n",
            "Epoch 77/160\n",
            "625/625 [==============================] - 22s 35ms/step - loss: 0.6638 - acc: 0.8488 - val_loss: 0.7953 - val_acc: 0.8162\n",
            "Epoch 78/160\n",
            "625/625 [==============================] - 22s 35ms/step - loss: 0.6625 - acc: 0.8485 - val_loss: 0.8226 - val_acc: 0.8038\n",
            "Epoch 79/160\n",
            "625/625 [==============================] - 22s 35ms/step - loss: 0.6584 - acc: 0.8503 - val_loss: 0.8703 - val_acc: 0.7856\n",
            "Epoch 80/160\n",
            "625/625 [==============================] - 22s 35ms/step - loss: 0.6562 - acc: 0.8502 - val_loss: 0.8755 - val_acc: 0.7918\n",
            "Epoch 81/160\n",
            "625/625 [==============================] - 22s 35ms/step - loss: 0.6617 - acc: 0.8477 - val_loss: 0.8233 - val_acc: 0.8002\n",
            "Epoch 82/160\n",
            "625/625 [==============================] - 23s 36ms/step - loss: 0.5704 - acc: 0.8784 - val_loss: 0.6269 - val_acc: 0.8670\n",
            "Epoch 83/160\n",
            "625/625 [==============================] - 22s 36ms/step - loss: 0.5241 - acc: 0.8924 - val_loss: 0.6130 - val_acc: 0.8673\n",
            "Epoch 84/160\n",
            "625/625 [==============================] - 22s 35ms/step - loss: 0.5014 - acc: 0.8967 - val_loss: 0.5964 - val_acc: 0.8727\n",
            "Epoch 85/160\n",
            "625/625 [==============================] - 22s 35ms/step - loss: 0.4909 - acc: 0.8998 - val_loss: 0.5886 - val_acc: 0.8755\n",
            "Epoch 86/160\n",
            "625/625 [==============================] - 22s 35ms/step - loss: 0.4736 - acc: 0.9037 - val_loss: 0.5926 - val_acc: 0.8723\n",
            "Epoch 87/160\n",
            "625/625 [==============================] - 22s 35ms/step - loss: 0.4701 - acc: 0.9028 - val_loss: 0.5942 - val_acc: 0.8700\n",
            "Epoch 88/160\n",
            "625/625 [==============================] - 22s 35ms/step - loss: 0.4552 - acc: 0.9059 - val_loss: 0.5482 - val_acc: 0.8833\n",
            "Epoch 89/160\n",
            "625/625 [==============================] - 22s 35ms/step - loss: 0.4503 - acc: 0.9064 - val_loss: 0.5594 - val_acc: 0.8783\n",
            "Epoch 90/160\n",
            "625/625 [==============================] - 22s 35ms/step - loss: 0.4342 - acc: 0.9104 - val_loss: 0.5512 - val_acc: 0.8804\n",
            "Epoch 91/160\n",
            "625/625 [==============================] - 22s 35ms/step - loss: 0.4310 - acc: 0.9093 - val_loss: 0.5134 - val_acc: 0.8891\n",
            "Epoch 92/160\n",
            "625/625 [==============================] - 22s 35ms/step - loss: 0.4285 - acc: 0.9098 - val_loss: 0.5316 - val_acc: 0.8850\n",
            "Epoch 93/160\n",
            "625/625 [==============================] - 22s 35ms/step - loss: 0.4189 - acc: 0.9110 - val_loss: 0.5448 - val_acc: 0.8759\n",
            "Epoch 94/160\n",
            "625/625 [==============================] - 22s 35ms/step - loss: 0.4070 - acc: 0.9148 - val_loss: 0.5203 - val_acc: 0.8873\n",
            "Epoch 95/160\n",
            "625/625 [==============================] - 22s 34ms/step - loss: 0.4066 - acc: 0.9142 - val_loss: 0.5694 - val_acc: 0.8731\n",
            "Epoch 96/160\n",
            "625/625 [==============================] - 22s 35ms/step - loss: 0.3955 - acc: 0.9165 - val_loss: 0.5444 - val_acc: 0.8791\n",
            "Epoch 97/160\n",
            "625/625 [==============================] - 22s 35ms/step - loss: 0.3922 - acc: 0.9175 - val_loss: 0.5482 - val_acc: 0.8763\n",
            "Epoch 98/160\n",
            "625/625 [==============================] - 23s 36ms/step - loss: 0.3882 - acc: 0.9170 - val_loss: 0.5257 - val_acc: 0.8819\n",
            "Epoch 99/160\n",
            "625/625 [==============================] - 22s 35ms/step - loss: 0.3859 - acc: 0.9176 - val_loss: 0.5234 - val_acc: 0.8803\n",
            "Epoch 100/160\n",
            "625/625 [==============================] - 22s 35ms/step - loss: 0.3795 - acc: 0.9174 - val_loss: 0.5130 - val_acc: 0.8842\n",
            "Epoch 101/160\n",
            "625/625 [==============================] - 22s 36ms/step - loss: 0.3779 - acc: 0.9191 - val_loss: 0.5063 - val_acc: 0.8877\n",
            "Epoch 102/160\n",
            "625/625 [==============================] - 22s 35ms/step - loss: 0.3669 - acc: 0.9219 - val_loss: 0.5019 - val_acc: 0.8843\n",
            "Epoch 103/160\n",
            "625/625 [==============================] - 22s 35ms/step - loss: 0.3639 - acc: 0.9202 - val_loss: 0.5375 - val_acc: 0.8800\n",
            "Epoch 104/160\n",
            "625/625 [==============================] - 22s 35ms/step - loss: 0.3642 - acc: 0.9207 - val_loss: 0.5189 - val_acc: 0.8830\n",
            "Epoch 105/160\n",
            "625/625 [==============================] - 22s 35ms/step - loss: 0.3585 - acc: 0.9232 - val_loss: 0.5290 - val_acc: 0.8780\n",
            "Epoch 106/160\n",
            "625/625 [==============================] - 22s 35ms/step - loss: 0.3561 - acc: 0.9226 - val_loss: 0.5464 - val_acc: 0.8768\n",
            "Epoch 107/160\n",
            "625/625 [==============================] - 22s 35ms/step - loss: 0.3514 - acc: 0.9240 - val_loss: 0.5332 - val_acc: 0.8754\n",
            "Epoch 108/160\n",
            "625/625 [==============================] - 22s 35ms/step - loss: 0.3456 - acc: 0.9251 - val_loss: 0.4942 - val_acc: 0.8873\n",
            "Epoch 109/160\n",
            "625/625 [==============================] - 22s 36ms/step - loss: 0.3503 - acc: 0.9241 - val_loss: 0.4905 - val_acc: 0.8884\n",
            "Epoch 110/160\n",
            "625/625 [==============================] - 22s 35ms/step - loss: 0.3488 - acc: 0.9230 - val_loss: 0.4938 - val_acc: 0.8859\n",
            "Epoch 111/160\n",
            "625/625 [==============================] - 22s 35ms/step - loss: 0.3388 - acc: 0.9272 - val_loss: 0.5161 - val_acc: 0.8818\n",
            "Epoch 112/160\n",
            "625/625 [==============================] - 22s 36ms/step - loss: 0.3357 - acc: 0.9266 - val_loss: 0.5279 - val_acc: 0.8752\n",
            "Epoch 113/160\n",
            "625/625 [==============================] - 22s 35ms/step - loss: 0.3400 - acc: 0.9261 - val_loss: 0.4942 - val_acc: 0.8876\n",
            "Epoch 114/160\n",
            "625/625 [==============================] - 22s 35ms/step - loss: 0.3349 - acc: 0.9250 - val_loss: 0.5150 - val_acc: 0.8789\n",
            "Epoch 115/160\n",
            "625/625 [==============================] - 22s 36ms/step - loss: 0.3243 - acc: 0.9286 - val_loss: 0.5044 - val_acc: 0.8833\n",
            "Epoch 116/160\n",
            "625/625 [==============================] - 22s 35ms/step - loss: 0.3245 - acc: 0.9289 - val_loss: 0.5049 - val_acc: 0.8823\n",
            "Epoch 117/160\n",
            "625/625 [==============================] - 22s 35ms/step - loss: 0.3224 - acc: 0.9286 - val_loss: 0.4855 - val_acc: 0.8905\n",
            "Epoch 118/160\n",
            "625/625 [==============================] - 22s 35ms/step - loss: 0.3229 - acc: 0.9290 - val_loss: 0.4828 - val_acc: 0.8895\n",
            "Epoch 119/160\n",
            "625/625 [==============================] - 22s 36ms/step - loss: 0.3199 - acc: 0.9291 - val_loss: 0.4999 - val_acc: 0.8849\n",
            "Epoch 120/160\n",
            "625/625 [==============================] - 23s 36ms/step - loss: 0.3181 - acc: 0.9289 - val_loss: 0.4751 - val_acc: 0.8900\n",
            "Epoch 121/160\n",
            "625/625 [==============================] - 22s 35ms/step - loss: 0.3171 - acc: 0.9290 - val_loss: 0.4812 - val_acc: 0.8895\n",
            "Epoch 122/160\n",
            "625/625 [==============================] - 22s 35ms/step - loss: 0.3036 - acc: 0.9344 - val_loss: 0.4782 - val_acc: 0.8898\n",
            "Epoch 123/160\n",
            "625/625 [==============================] - 22s 36ms/step - loss: 0.2969 - acc: 0.9368 - val_loss: 0.4704 - val_acc: 0.8922\n",
            "Epoch 124/160\n",
            "625/625 [==============================] - 22s 36ms/step - loss: 0.2953 - acc: 0.9365 - val_loss: 0.4767 - val_acc: 0.8918\n",
            "Epoch 125/160\n",
            "625/625 [==============================] - 22s 36ms/step - loss: 0.2907 - acc: 0.9388 - val_loss: 0.4669 - val_acc: 0.8921\n",
            "Epoch 126/160\n",
            "625/625 [==============================] - 23s 36ms/step - loss: 0.2894 - acc: 0.9398 - val_loss: 0.4652 - val_acc: 0.8933\n",
            "Epoch 127/160\n",
            "625/625 [==============================] - 22s 36ms/step - loss: 0.2869 - acc: 0.9401 - val_loss: 0.4765 - val_acc: 0.8905\n",
            "Epoch 128/160\n",
            "625/625 [==============================] - 22s 35ms/step - loss: 0.2878 - acc: 0.9394 - val_loss: 0.4685 - val_acc: 0.8935\n",
            "Epoch 129/160\n",
            "625/625 [==============================] - 22s 36ms/step - loss: 0.2911 - acc: 0.9387 - val_loss: 0.4744 - val_acc: 0.8927\n",
            "Epoch 130/160\n",
            "625/625 [==============================] - 22s 36ms/step - loss: 0.2849 - acc: 0.9402 - val_loss: 0.4751 - val_acc: 0.8929\n",
            "Epoch 131/160\n",
            "625/625 [==============================] - 22s 36ms/step - loss: 0.2863 - acc: 0.9391 - val_loss: 0.4734 - val_acc: 0.8927\n",
            "Epoch 132/160\n",
            "625/625 [==============================] - 22s 35ms/step - loss: 0.2818 - acc: 0.9413 - val_loss: 0.4670 - val_acc: 0.8938\n",
            "Epoch 133/160\n",
            "625/625 [==============================] - 22s 36ms/step - loss: 0.2869 - acc: 0.9392 - val_loss: 0.4684 - val_acc: 0.8939\n",
            "Epoch 134/160\n",
            "625/625 [==============================] - 22s 36ms/step - loss: 0.2842 - acc: 0.9406 - val_loss: 0.4709 - val_acc: 0.8935\n",
            "Epoch 135/160\n",
            "625/625 [==============================] - 22s 36ms/step - loss: 0.2831 - acc: 0.9406 - val_loss: 0.4709 - val_acc: 0.8936\n",
            "Epoch 136/160\n",
            "625/625 [==============================] - 22s 36ms/step - loss: 0.2818 - acc: 0.9402 - val_loss: 0.4661 - val_acc: 0.8951\n",
            "Epoch 137/160\n",
            "625/625 [==============================] - 22s 36ms/step - loss: 0.2810 - acc: 0.9420 - val_loss: 0.4680 - val_acc: 0.8942\n",
            "Epoch 138/160\n",
            "625/625 [==============================] - 22s 36ms/step - loss: 0.2768 - acc: 0.9431 - val_loss: 0.4677 - val_acc: 0.8938\n",
            "Epoch 139/160\n",
            "625/625 [==============================] - 22s 36ms/step - loss: 0.2787 - acc: 0.9437 - val_loss: 0.4705 - val_acc: 0.8935\n",
            "Epoch 140/160\n",
            "625/625 [==============================] - 22s 36ms/step - loss: 0.2825 - acc: 0.9408 - val_loss: 0.4709 - val_acc: 0.8933\n",
            "Epoch 141/160\n",
            "625/625 [==============================] - 23s 36ms/step - loss: 0.2776 - acc: 0.9425 - val_loss: 0.4730 - val_acc: 0.8933\n",
            "Epoch 142/160\n",
            "625/625 [==============================] - 23s 36ms/step - loss: 0.2833 - acc: 0.9399 - val_loss: 0.4660 - val_acc: 0.8958\n",
            "Epoch 143/160\n",
            "625/625 [==============================] - 22s 35ms/step - loss: 0.2765 - acc: 0.9417 - val_loss: 0.4593 - val_acc: 0.8961\n",
            "Epoch 144/160\n",
            "625/625 [==============================] - 22s 36ms/step - loss: 0.2777 - acc: 0.9432 - val_loss: 0.4666 - val_acc: 0.8939\n",
            "Epoch 145/160\n",
            "625/625 [==============================] - 22s 36ms/step - loss: 0.2806 - acc: 0.9414 - val_loss: 0.4671 - val_acc: 0.8952\n",
            "Epoch 146/160\n",
            "625/625 [==============================] - 22s 36ms/step - loss: 0.2774 - acc: 0.9434 - val_loss: 0.4698 - val_acc: 0.8934\n",
            "Epoch 147/160\n",
            "625/625 [==============================] - 22s 36ms/step - loss: 0.2760 - acc: 0.9420 - val_loss: 0.4730 - val_acc: 0.8935\n",
            "Epoch 148/160\n",
            "625/625 [==============================] - 22s 36ms/step - loss: 0.2781 - acc: 0.9431 - val_loss: 0.4597 - val_acc: 0.8956\n",
            "Epoch 149/160\n",
            "625/625 [==============================] - 22s 36ms/step - loss: 0.2761 - acc: 0.9426 - val_loss: 0.4580 - val_acc: 0.8954\n",
            "Epoch 150/160\n",
            "625/625 [==============================] - 22s 36ms/step - loss: 0.2760 - acc: 0.9421 - val_loss: 0.4677 - val_acc: 0.8938\n",
            "Epoch 151/160\n",
            "625/625 [==============================] - 23s 36ms/step - loss: 0.2756 - acc: 0.9416 - val_loss: 0.4712 - val_acc: 0.8932\n",
            "Epoch 152/160\n",
            "625/625 [==============================] - 22s 35ms/step - loss: 0.2723 - acc: 0.9426 - val_loss: 0.4690 - val_acc: 0.8933\n",
            "Epoch 153/160\n",
            "625/625 [==============================] - 22s 35ms/step - loss: 0.2702 - acc: 0.9441 - val_loss: 0.4680 - val_acc: 0.8932\n",
            "Epoch 154/160\n",
            "625/625 [==============================] - 22s 36ms/step - loss: 0.2740 - acc: 0.9431 - val_loss: 0.4651 - val_acc: 0.8929\n",
            "Epoch 155/160\n",
            "625/625 [==============================] - 22s 36ms/step - loss: 0.2717 - acc: 0.9433 - val_loss: 0.4746 - val_acc: 0.8909\n",
            "Epoch 156/160\n",
            "625/625 [==============================] - 23s 36ms/step - loss: 0.2732 - acc: 0.9436 - val_loss: 0.4719 - val_acc: 0.8927\n",
            "Epoch 157/160\n",
            "625/625 [==============================] - 22s 35ms/step - loss: 0.2718 - acc: 0.9434 - val_loss: 0.4622 - val_acc: 0.8954\n",
            "Epoch 158/160\n",
            "625/625 [==============================] - 22s 36ms/step - loss: 0.2731 - acc: 0.9426 - val_loss: 0.4659 - val_acc: 0.8951\n",
            "Epoch 159/160\n",
            "625/625 [==============================] - 22s 36ms/step - loss: 0.2724 - acc: 0.9431 - val_loss: 0.4729 - val_acc: 0.8921\n",
            "Epoch 160/160\n",
            "625/625 [==============================] - 22s 36ms/step - loss: 0.2724 - acc: 0.9440 - val_loss: 0.4716 - val_acc: 0.8924\n"
          ],
          "name": "stdout"
        }
      ]
    },
    {
      "cell_type": "code",
      "metadata": {
        "colab": {
          "base_uri": "https://localhost:8080/"
        },
        "id": "H3_CuFuNkKPM",
        "outputId": "7c587fd0-20ff-43b5-bc02-6b9630274633"
      },
      "source": [
        "resnet34_model.save('/content/drive/MyDrive/Colab Notebooks/resnet_model/')"
      ],
      "execution_count": null,
      "outputs": [
        {
          "output_type": "stream",
          "text": [
            "/usr/local/lib/python3.7/dist-packages/tensorflow/python/keras/utils/generic_utils.py:497: CustomMaskWarning: Custom mask layers require a config and must override get_config. When loading, the custom mask layer must be passed to the custom_objects argument.\n",
            "  category=CustomMaskWarning)\n"
          ],
          "name": "stderr"
        },
        {
          "output_type": "stream",
          "text": [
            "INFO:tensorflow:Assets written to: /content/drive/MyDrive/Colab Notebooks/resnet_model/assets\n"
          ],
          "name": "stdout"
        }
      ]
    },
    {
      "cell_type": "code",
      "metadata": {
        "colab": {
          "base_uri": "https://localhost:8080/",
          "height": 369
        },
        "id": "XbziRYwD8xA_",
        "outputId": "ebf24f6d-51c4-43d4-eba6-afbda8570679"
      },
      "source": [
        "### Plot train and validation curves\n",
        "loss = resnet_train.history['loss']\n",
        "v_loss = resnet_train.history['val_loss']\n",
        "\n",
        "acc = resnet_train.history['acc']\n",
        "v_acc = resnet_train.history['val_acc']\n",
        "\n",
        "epochs = range(len(loss))\n",
        "\n",
        "fig = plt.figure(figsize=(9, 5))\n",
        "plt.subplot(1, 2, 1)\n",
        "plt.yscale('log')\n",
        "plt.plot(epochs, loss, linestyle='--', linewidth=3, color='orange', alpha=0.7, label='Train Loss')\n",
        "plt.plot(epochs, v_loss, linestyle='-.', linewidth=2, color='lime', alpha=0.8, label='Valid Loss')\n",
        "plt.ylim(0.3, 100)\n",
        "plt.xlabel('Epochs', fontsize=11)\n",
        "plt.ylabel('Loss', fontsize=12)\n",
        "plt.legend(fontsize=12)\n",
        "plt.subplot(1, 2, 2)\n",
        "plt.plot(epochs, acc, linestyle='--', linewidth=3, color='orange', alpha=0.7, label='Train Acc')\n",
        "plt.plot(epochs, v_acc, linestyle='-.', linewidth=2, color='lime', alpha=0.8, label='Valid Acc') \n",
        "plt.xlabel('Epochs', fontsize=11)\n",
        "plt.ylabel('Accuracy', fontsize=12)\n",
        "plt.legend(fontsize=12)\n",
        "plt.tight_layout()\n",
        "plt.savefig('/content/drive/MyDrive/Colab Notebooks/resnet/train_acc.png', dpi=250)\n",
        "plt.show()"
      ],
      "execution_count": null,
      "outputs": [
        {
          "output_type": "display_data",
          "data": {
            "image/png": "[encoded data removed]",
            "text/plain": [
              "<Figure size 648x360 with 2 Axes>"
            ]
          },
          "metadata": {
            "tags": [],
            "needs_background": "light"
          }
        }
      ]
    },
    {
      "cell_type": "code",
      "metadata": {
        "colab": {
          "base_uri": "https://localhost:8080/"
        },
        "id": "bTnhh4N-uAJQ",
        "outputId": "abc74396-8d4c-4336-d364-bf21fbf8c81e"
      },
      "source": [
        "from google.colab import drive\n",
        "drive.mount('/content/drive')"
      ],
      "execution_count": null,
      "outputs": [
        {
          "output_type": "stream",
          "text": [
            "Mounted at /content/drive\n"
          ],
          "name": "stdout"
        }
      ]
    },
    {
      "cell_type": "code",
      "metadata": {
        "id": "cUOsl4GHzoSe"
      },
      "source": [
        "from google.colab import  drive\n",
        "drive.mount('/content/gdrive')"
      ],
      "execution_count": null,
      "outputs": []
    },
    {
      "cell_type": "code",
      "metadata": {
        "id": "Af5_vzFnEI28"
      },
      "source": [
        "#### Plot the Confusion Matrix\n",
        "\n",
        "from sklearn.metrics import confusion_matrix, classification_report\n",
        "import seaborn as sns\n",
        "\n",
        "def conf_matrix(predictions): \n",
        "    ''' Plots conf. matrix and classification report '''\n",
        "    cm=confusion_matrix(test_lab, np.argmax(np.round(predictions), axis=1))\n",
        "    print(\"Classification Report:\\n\")\n",
        "    cr=classification_report(test_lab,\n",
        "                                np.argmax(np.round(predictions), axis=1), \n",
        "                                target_names=[class_types[i] for i in range(len(class_types))])\n",
        "    print(cr)\n",
        "    plt.figure(figsize=(12,12))\n",
        "    sns_hmp = sns.heatmap(cm, annot=True, xticklabels = [class_types[i] for i in range(len(class_types))], \n",
        "                yticklabels = [class_types[i] for i in range(len(class_types))], fmt=\"d\")\n",
        "    fig = sns_hmp.get_figure()\n",
        "    fig.savefig('/content/drive/MyDrive/Colab Notebooks/resnet/heatmap.png', dpi=250)"
      ],
      "execution_count": null,
      "outputs": []
    },
    {
      "cell_type": "code",
      "metadata": {
        "colab": {
          "base_uri": "https://localhost:8080/",
          "height": 1000
        },
        "id": "xj81pYK-zc9C",
        "outputId": "0469d7a0-9af2-40f0-8840-88eef360efb2"
      },
      "source": [
        "pred_class_resnet34 = resnet34_model.predict(test_im)\n",
        "\n",
        "conf_matrix(pred_class_resnet34)"
      ],
      "execution_count": null,
      "outputs": [
        {
          "output_type": "stream",
          "text": [
            "Classification Report:\n",
            "\n",
            "              precision    recall  f1-score   support\n",
            "\n",
            "    airplane       0.72      0.93      0.81      1000\n",
            "  automobile       0.93      0.97      0.95      1000\n",
            "        bird       0.90      0.83      0.86      1000\n",
            "         cat       0.86      0.72      0.78      1000\n",
            "        deer       0.90      0.86      0.88      1000\n",
            "         dog       0.90      0.76      0.83      1000\n",
            "        frog       0.81      0.97      0.88      1000\n",
            "       horse       0.96      0.92      0.94      1000\n",
            "        ship       0.96      0.93      0.94      1000\n",
            "       truck       0.94      0.93      0.94      1000\n",
            "\n",
            "    accuracy                           0.88     10000\n",
            "   macro avg       0.89      0.88      0.88     10000\n",
            "weighted avg       0.89      0.88      0.88     10000\n",
            "\n"
          ],
          "name": "stdout"
        },
        {
          "output_type": "display_data",
          "data": {
            "image/png": "[encoded data removed]",
            "text/plain": [
              "<Figure size 864x864 with 2 Axes>"
            ]
          },
          "metadata": {
            "tags": [],
            "needs_background": "light"
          }
        }
      ]
    },
    {
      "cell_type": "code",
      "metadata": {
        "colab": {
          "base_uri": "https://localhost:8080/"
        },
        "id": "wws0OyUW0O8F",
        "outputId": "48c9bd67-95d3-4565-cb35-d9904086cbde"
      },
      "source": [
        "### Resutls on Test Data; \n",
        "## Check the performance on the test data \n",
        "test_result = resnet34_model.evaluate(test_im, test_lab_categorical, verbose=0)\n",
        "\n",
        "print (\"ResNet34 loss: \", test_result[0])\n",
        "print (\"ResNet34 accuracy: \", test_result[1])"
      ],
      "execution_count": null,
      "outputs": [
        {
          "output_type": "stream",
          "text": [
            "ResNet50 loss:  0.4908643662929535\n",
            "ResNet50 accuracy:  0.8892999887466431\n"
          ],
          "name": "stdout"
        }
      ]
    },
    {
      "cell_type": "code",
      "metadata": {
        "id": "TllMeG4N05_h"
      },
      "source": [
        ""
      ],
      "execution_count": null,
      "outputs": []
    }
  ]
}